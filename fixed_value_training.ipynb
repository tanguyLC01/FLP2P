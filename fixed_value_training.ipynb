{
 "cells": [
  {
   "cell_type": "code",
   "execution_count": 12,
   "id": "a86cf3be",
   "metadata": {},
   "outputs": [],
   "source": [
    "\n",
    "import os\n",
    "from typing import List, Dict\n",
    "\n",
    "\n",
    "from omegaconf import DictConfig, OmegaConf\n",
    "\n",
    "from flp2p.client import FLClient\n",
    "from flp2p.data import build_client_loaders, get_dataset\n",
    "from flp2p.graph_runner import run_rounds\n",
    "from flp2p.networks.lenet5 import LeNet5\n",
    "from flp2p.networks.resnet18 import make_resnet18\n",
    "import logging\n",
    "import pickle\n",
    "import random\n",
    "import numpy as np\n",
    "import torch\n",
    "from flp2p.utils import plot_topology, build_topology"
   ]
  },
  {
   "cell_type": "code",
   "execution_count": null,
   "id": "accd3f1d",
   "metadata": {},
   "outputs": [
    {
     "data": {
      "text/plain": [
       "{'data': {'name': 'cifar10', 'root': './data', 'batch_size': 10, 'num_workers': 0}, 'model': {'name': 'resnet18', 'num_classes': 10, 'pretrained': False}, 'partition': {'name': 'dirichlet', 'num_clients': 80, 'strategy': 'dirichlet', 'dirichlet_alpha': 0.1, 'min_partition_size': 1}, 'client': {'learning_rate': 0.0001, 'weight_decay': 0.0005, 'momentum': 0}, 'train': {'rounds': 100, 'local_epochs': 1, 'progress': True, 'participation_rate': 1, 'lr_decay': 0}, 'graph': {'name': 'two_clusters', 'topology': 'two_clusters'}, 'seed': 42, 'use_cuda': True, 'mixing_matrix': 'metropolis_hasting', 'run_name': 'main_link_activation', 'consensus_lr': 0.001, 'old_gradients': False, 'same_distrib_test_set': True, 'decrease_consensus': True, 'main_link_activation': 0.4, 'gossip_epochs': 1}"
      ]
     },
     "execution_count": 22,
     "metadata": {},
     "output_type": "execute_result"
    }
   ],
   "source": [
    "from hydra import compose, initialize\n",
    "\n",
    "with initialize(version_base=None, config_path=\"conf\", job_name=\"test_app\"):\n",
    "    cfg = compose(config_name=\"config\")"
   ]
  },
  {
   "cell_type": "code",
   "execution_count": 23,
   "id": "201bd21d",
   "metadata": {},
   "outputs": [
    {
     "name": "stderr",
     "output_type": "stream",
     "text": [
      "/home/tanglc/FLP2P/p2p/lib/python3.12/site-packages/torchvision/models/_utils.py:208: UserWarning: The parameter 'pretrained' is deprecated since 0.13 and may be removed in the future, please use 'weights' instead.\n",
      "  warnings.warn(\n",
      "/home/tanglc/FLP2P/p2p/lib/python3.12/site-packages/torchvision/models/_utils.py:223: UserWarning: Arguments other than a weight enum or `None` for 'weights' are deprecated since 0.13 and may be removed in the future. The current behavior is equivalent to passing `weights=None`.\n",
      "  warnings.warn(msg)\n"
     ]
    }
   ],
   "source": [
    "device = torch.device(\"cuda\" if torch.cuda.is_available() and cfg.use_cuda else \"cpu\")\n",
    "base_model = make_resnet18(cfg.model).to(device)\n",
    "init_state = base_model.state_dict()\n",
    "\n",
    "# Model + Clients\n",
    "clients: List[FLClient] = []\n",
    "for i in range(cfg.partition.num_clients):\n",
    "    if cfg.model.name == \"lenet5\":\n",
    "        model = LeNet5(cfg.model).to(device)\n",
    "        model.load_state_dict(init_state)\n",
    "    elif cfg.model.name == \"resnet18\":\n",
    "        model = make_resnet18(cfg.model).to(device)\n",
    "        model.load_state_dict(init_state)\n",
    "    else:\n",
    "        raise ValueError(f\"Unknown model: {cfg.model.name}\")\n",
    "    train_loader, test_loader = None, None\n",
    "    client = FLClient(\n",
    "        model=model,\n",
    "        device=device,\n",
    "        train_loader=train_loader,\n",
    "        test_loader=test_loader,\n",
    "        config=cfg.client\n",
    "    )\n",
    "    clients.append(client)"
   ]
  }
 ],
 "metadata": {
  "kernelspec": {
   "display_name": "p2p",
   "language": "python",
   "name": "python3"
  },
  "language_info": {
   "codemirror_mode": {
    "name": "ipython",
    "version": 3
   },
   "file_extension": ".py",
   "mimetype": "text/x-python",
   "name": "python",
   "nbconvert_exporter": "python",
   "pygments_lexer": "ipython3",
   "version": "3.12.3"
  }
 },
 "nbformat": 4,
 "nbformat_minor": 5
}
