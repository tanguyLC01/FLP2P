{
 "cells": [
  {
   "cell_type": "code",
   "execution_count": null,
   "id": "a86cf3be",
   "metadata": {},
   "outputs": [],
   "source": [
    "\n",
    "import os\n",
    "from typing import List, Dict\n",
    "\n",
    "\n",
    "from omegaconf import DictConfig, OmegaConf\n",
    "\n",
    "from flp2p.client import FLClient\n",
    "from flp2p.data import build_client_loaders, get_dataset\n",
    "from flp2p.graph_runner import run_rounds\n",
    "from flp2p.networks.lenet5 import LeNet5\n",
    "from flp2p.networks.resnet18 import make_resnet18\n",
    "import logging\n",
    "import pickle\n",
    "import random\n",
    "import numpy as np\n",
    "\n",
    "from flp2p.utils import plot_topology, build_topology"
   ]
  },
  {
   "cell_type": "code",
   "execution_count": 8,
   "id": "accd3f1d",
   "metadata": {},
   "outputs": [],
   "source": [
    "cfg = OmegaConf.load('./conf/config.yaml')"
   ]
  },
  {
   "cell_type": "code",
   "execution_count": null,
   "id": "201bd21d",
   "metadata": {},
   "outputs": [
    {
     "ename": "ConfigAttributeError",
     "evalue": "Missing key pretrained\n    full_key: pretrained\n    object_type=dict",
     "output_type": "error",
     "traceback": [
      "\u001b[31m---------------------------------------------------------------------------\u001b[39m",
      "\u001b[31mConfigAttributeError\u001b[39m                      Traceback (most recent call last)",
      "\u001b[36mCell\u001b[39m\u001b[36m \u001b[39m\u001b[32mIn[9]\u001b[39m\u001b[32m, line 1\u001b[39m\n\u001b[32m----> \u001b[39m\u001b[32m1\u001b[39m base_model = \u001b[43mmake_resnet18\u001b[49m\u001b[43m(\u001b[49m\u001b[43mcfg\u001b[49m\u001b[43m)\u001b[49m.to(device)\n\u001b[32m      2\u001b[39m init_state = base_model.state_dict()\n\u001b[32m      4\u001b[39m \u001b[38;5;66;03m# Model + Clients\u001b[39;00m\n",
      "\u001b[36mFile \u001b[39m\u001b[32m~/FLP2P/flp2p/networks/resnet18.py:18\u001b[39m, in \u001b[36mmake_resnet18\u001b[39m\u001b[34m(model_config)\u001b[39m\n\u001b[32m      6\u001b[39m \u001b[38;5;28;01mdef\u001b[39;00m\u001b[38;5;250m \u001b[39m\u001b[34mmake_resnet18\u001b[39m(model_config: Dict) -> torch.nn.Module:\n\u001b[32m      7\u001b[39m \u001b[38;5;250m    \u001b[39m\u001b[33;03m\"\"\"\u001b[39;00m\n\u001b[32m      8\u001b[39m \u001b[33;03m    Returns a ResNet-18 model.\u001b[39;00m\n\u001b[32m      9\u001b[39m \n\u001b[32m   (...)\u001b[39m\u001b[32m     16\u001b[39m \u001b[33;03m        model on requested device.\u001b[39;00m\n\u001b[32m     17\u001b[39m \u001b[33;03m    \"\"\"\u001b[39;00m\n\u001b[32m---> \u001b[39m\u001b[32m18\u001b[39m     model = models.resnet18(pretrained=\u001b[43mmodel_config\u001b[49m\u001b[43m.\u001b[49m\u001b[43mpretrained\u001b[49m)\n\u001b[32m     20\u001b[39m     model.conv1 = nn.Conv2d(\u001b[32m3\u001b[39m, \u001b[32m64\u001b[39m, kernel_size=\u001b[32m3\u001b[39m, stride=\u001b[32m1\u001b[39m, padding=\u001b[32m1\u001b[39m, bias=\u001b[38;5;28;01mFalse\u001b[39;00m)\n\u001b[32m     21\u001b[39m     model.maxpool = nn.Identity()  \u001b[38;5;66;03m# remove maxpool\u001b[39;00m\n",
      "\u001b[36mFile \u001b[39m\u001b[32m~/FLP2P/p2p/lib/python3.12/site-packages/omegaconf/dictconfig.py:355\u001b[39m, in \u001b[36mDictConfig.__getattr__\u001b[39m\u001b[34m(self, key)\u001b[39m\n\u001b[32m    351\u001b[39m     \u001b[38;5;28;01mreturn\u001b[39;00m \u001b[38;5;28mself\u001b[39m._get_impl(\n\u001b[32m    352\u001b[39m         key=key, default_value=_DEFAULT_MARKER_, validate_key=\u001b[38;5;28;01mFalse\u001b[39;00m\n\u001b[32m    353\u001b[39m     )\n\u001b[32m    354\u001b[39m \u001b[38;5;28;01mexcept\u001b[39;00m ConfigKeyError \u001b[38;5;28;01mas\u001b[39;00m e:\n\u001b[32m--> \u001b[39m\u001b[32m355\u001b[39m     \u001b[38;5;28;43mself\u001b[39;49m\u001b[43m.\u001b[49m\u001b[43m_format_and_raise\u001b[49m\u001b[43m(\u001b[49m\n\u001b[32m    356\u001b[39m \u001b[43m        \u001b[49m\u001b[43mkey\u001b[49m\u001b[43m=\u001b[49m\u001b[43mkey\u001b[49m\u001b[43m,\u001b[49m\u001b[43m \u001b[49m\u001b[43mvalue\u001b[49m\u001b[43m=\u001b[49m\u001b[38;5;28;43;01mNone\u001b[39;49;00m\u001b[43m,\u001b[49m\u001b[43m \u001b[49m\u001b[43mcause\u001b[49m\u001b[43m=\u001b[49m\u001b[43me\u001b[49m\u001b[43m,\u001b[49m\u001b[43m \u001b[49m\u001b[43mtype_override\u001b[49m\u001b[43m=\u001b[49m\u001b[43mConfigAttributeError\u001b[49m\n\u001b[32m    357\u001b[39m \u001b[43m    \u001b[49m\u001b[43m)\u001b[49m\n\u001b[32m    358\u001b[39m \u001b[38;5;28;01mexcept\u001b[39;00m \u001b[38;5;167;01mException\u001b[39;00m \u001b[38;5;28;01mas\u001b[39;00m e:\n\u001b[32m    359\u001b[39m     \u001b[38;5;28mself\u001b[39m._format_and_raise(key=key, value=\u001b[38;5;28;01mNone\u001b[39;00m, cause=e)\n",
      "\u001b[36mFile \u001b[39m\u001b[32m~/FLP2P/p2p/lib/python3.12/site-packages/omegaconf/base.py:231\u001b[39m, in \u001b[36mNode._format_and_raise\u001b[39m\u001b[34m(self, key, value, cause, msg, type_override)\u001b[39m\n\u001b[32m    223\u001b[39m \u001b[38;5;28;01mdef\u001b[39;00m\u001b[38;5;250m \u001b[39m\u001b[34m_format_and_raise\u001b[39m(\n\u001b[32m    224\u001b[39m     \u001b[38;5;28mself\u001b[39m,\n\u001b[32m    225\u001b[39m     key: Any,\n\u001b[32m   (...)\u001b[39m\u001b[32m    229\u001b[39m     type_override: Any = \u001b[38;5;28;01mNone\u001b[39;00m,\n\u001b[32m    230\u001b[39m ) -> \u001b[38;5;28;01mNone\u001b[39;00m:\n\u001b[32m--> \u001b[39m\u001b[32m231\u001b[39m     \u001b[43mformat_and_raise\u001b[49m\u001b[43m(\u001b[49m\n\u001b[32m    232\u001b[39m \u001b[43m        \u001b[49m\u001b[43mnode\u001b[49m\u001b[43m=\u001b[49m\u001b[38;5;28;43mself\u001b[39;49m\u001b[43m,\u001b[49m\n\u001b[32m    233\u001b[39m \u001b[43m        \u001b[49m\u001b[43mkey\u001b[49m\u001b[43m=\u001b[49m\u001b[43mkey\u001b[49m\u001b[43m,\u001b[49m\n\u001b[32m    234\u001b[39m \u001b[43m        \u001b[49m\u001b[43mvalue\u001b[49m\u001b[43m=\u001b[49m\u001b[43mvalue\u001b[49m\u001b[43m,\u001b[49m\n\u001b[32m    235\u001b[39m \u001b[43m        \u001b[49m\u001b[43mmsg\u001b[49m\u001b[43m=\u001b[49m\u001b[38;5;28;43mstr\u001b[39;49m\u001b[43m(\u001b[49m\u001b[43mcause\u001b[49m\u001b[43m)\u001b[49m\u001b[43m \u001b[49m\u001b[38;5;28;43;01mif\u001b[39;49;00m\u001b[43m \u001b[49m\u001b[43mmsg\u001b[49m\u001b[43m \u001b[49m\u001b[38;5;129;43;01mis\u001b[39;49;00m\u001b[43m \u001b[49m\u001b[38;5;28;43;01mNone\u001b[39;49;00m\u001b[43m \u001b[49m\u001b[38;5;28;43;01melse\u001b[39;49;00m\u001b[43m \u001b[49m\u001b[43mmsg\u001b[49m\u001b[43m,\u001b[49m\n\u001b[32m    236\u001b[39m \u001b[43m        \u001b[49m\u001b[43mcause\u001b[49m\u001b[43m=\u001b[49m\u001b[43mcause\u001b[49m\u001b[43m,\u001b[49m\n\u001b[32m    237\u001b[39m \u001b[43m        \u001b[49m\u001b[43mtype_override\u001b[49m\u001b[43m=\u001b[49m\u001b[43mtype_override\u001b[49m\u001b[43m,\u001b[49m\n\u001b[32m    238\u001b[39m \u001b[43m    \u001b[49m\u001b[43m)\u001b[49m\n\u001b[32m    239\u001b[39m     \u001b[38;5;28;01massert\u001b[39;00m \u001b[38;5;28;01mFalse\u001b[39;00m\n",
      "\u001b[36mFile \u001b[39m\u001b[32m~/FLP2P/p2p/lib/python3.12/site-packages/omegaconf/_utils.py:899\u001b[39m, in \u001b[36mformat_and_raise\u001b[39m\u001b[34m(node, key, value, msg, cause, type_override)\u001b[39m\n\u001b[32m    896\u001b[39m     ex.ref_type = ref_type\n\u001b[32m    897\u001b[39m     ex.ref_type_str = ref_type_str\n\u001b[32m--> \u001b[39m\u001b[32m899\u001b[39m \u001b[43m_raise\u001b[49m\u001b[43m(\u001b[49m\u001b[43mex\u001b[49m\u001b[43m,\u001b[49m\u001b[43m \u001b[49m\u001b[43mcause\u001b[49m\u001b[43m)\u001b[49m\n",
      "\u001b[36mFile \u001b[39m\u001b[32m~/FLP2P/p2p/lib/python3.12/site-packages/omegaconf/_utils.py:797\u001b[39m, in \u001b[36m_raise\u001b[39m\u001b[34m(ex, cause)\u001b[39m\n\u001b[32m    795\u001b[39m \u001b[38;5;28;01melse\u001b[39;00m:\n\u001b[32m    796\u001b[39m     ex.__cause__ = \u001b[38;5;28;01mNone\u001b[39;00m\n\u001b[32m--> \u001b[39m\u001b[32m797\u001b[39m \u001b[38;5;28;01mraise\u001b[39;00m ex.with_traceback(sys.exc_info()[\u001b[32m2\u001b[39m])\n",
      "\u001b[36mFile \u001b[39m\u001b[32m~/FLP2P/p2p/lib/python3.12/site-packages/omegaconf/dictconfig.py:351\u001b[39m, in \u001b[36mDictConfig.__getattr__\u001b[39m\u001b[34m(self, key)\u001b[39m\n\u001b[32m    348\u001b[39m     \u001b[38;5;28;01mraise\u001b[39;00m \u001b[38;5;167;01mAttributeError\u001b[39;00m()\n\u001b[32m    350\u001b[39m \u001b[38;5;28;01mtry\u001b[39;00m:\n\u001b[32m--> \u001b[39m\u001b[32m351\u001b[39m     \u001b[38;5;28;01mreturn\u001b[39;00m \u001b[38;5;28;43mself\u001b[39;49m\u001b[43m.\u001b[49m\u001b[43m_get_impl\u001b[49m\u001b[43m(\u001b[49m\n\u001b[32m    352\u001b[39m \u001b[43m        \u001b[49m\u001b[43mkey\u001b[49m\u001b[43m=\u001b[49m\u001b[43mkey\u001b[49m\u001b[43m,\u001b[49m\u001b[43m \u001b[49m\u001b[43mdefault_value\u001b[49m\u001b[43m=\u001b[49m\u001b[43m_DEFAULT_MARKER_\u001b[49m\u001b[43m,\u001b[49m\u001b[43m \u001b[49m\u001b[43mvalidate_key\u001b[49m\u001b[43m=\u001b[49m\u001b[38;5;28;43;01mFalse\u001b[39;49;00m\n\u001b[32m    353\u001b[39m \u001b[43m    \u001b[49m\u001b[43m)\u001b[49m\n\u001b[32m    354\u001b[39m \u001b[38;5;28;01mexcept\u001b[39;00m ConfigKeyError \u001b[38;5;28;01mas\u001b[39;00m e:\n\u001b[32m    355\u001b[39m     \u001b[38;5;28mself\u001b[39m._format_and_raise(\n\u001b[32m    356\u001b[39m         key=key, value=\u001b[38;5;28;01mNone\u001b[39;00m, cause=e, type_override=ConfigAttributeError\n\u001b[32m    357\u001b[39m     )\n",
      "\u001b[36mFile \u001b[39m\u001b[32m~/FLP2P/p2p/lib/python3.12/site-packages/omegaconf/dictconfig.py:442\u001b[39m, in \u001b[36mDictConfig._get_impl\u001b[39m\u001b[34m(self, key, default_value, validate_key)\u001b[39m\n\u001b[32m    438\u001b[39m \u001b[38;5;28;01mdef\u001b[39;00m\u001b[38;5;250m \u001b[39m\u001b[34m_get_impl\u001b[39m(\n\u001b[32m    439\u001b[39m     \u001b[38;5;28mself\u001b[39m, key: DictKeyType, default_value: Any, validate_key: \u001b[38;5;28mbool\u001b[39m = \u001b[38;5;28;01mTrue\u001b[39;00m\n\u001b[32m    440\u001b[39m ) -> Any:\n\u001b[32m    441\u001b[39m     \u001b[38;5;28;01mtry\u001b[39;00m:\n\u001b[32m--> \u001b[39m\u001b[32m442\u001b[39m         node = \u001b[38;5;28;43mself\u001b[39;49m\u001b[43m.\u001b[49m\u001b[43m_get_child\u001b[49m\u001b[43m(\u001b[49m\n\u001b[32m    443\u001b[39m \u001b[43m            \u001b[49m\u001b[43mkey\u001b[49m\u001b[43m=\u001b[49m\u001b[43mkey\u001b[49m\u001b[43m,\u001b[49m\u001b[43m \u001b[49m\u001b[43mthrow_on_missing_key\u001b[49m\u001b[43m=\u001b[49m\u001b[38;5;28;43;01mTrue\u001b[39;49;00m\u001b[43m,\u001b[49m\u001b[43m \u001b[49m\u001b[43mvalidate_key\u001b[49m\u001b[43m=\u001b[49m\u001b[43mvalidate_key\u001b[49m\n\u001b[32m    444\u001b[39m \u001b[43m        \u001b[49m\u001b[43m)\u001b[49m\n\u001b[32m    445\u001b[39m     \u001b[38;5;28;01mexcept\u001b[39;00m (ConfigAttributeError, ConfigKeyError):\n\u001b[32m    446\u001b[39m         \u001b[38;5;28;01mif\u001b[39;00m default_value \u001b[38;5;129;01mis\u001b[39;00m \u001b[38;5;129;01mnot\u001b[39;00m _DEFAULT_MARKER_:\n",
      "\u001b[36mFile \u001b[39m\u001b[32m~/FLP2P/p2p/lib/python3.12/site-packages/omegaconf/basecontainer.py:73\u001b[39m, in \u001b[36mBaseContainer._get_child\u001b[39m\u001b[34m(self, key, validate_access, validate_key, throw_on_missing_value, throw_on_missing_key)\u001b[39m\n\u001b[32m     64\u001b[39m \u001b[38;5;28;01mdef\u001b[39;00m\u001b[38;5;250m \u001b[39m\u001b[34m_get_child\u001b[39m(\n\u001b[32m     65\u001b[39m     \u001b[38;5;28mself\u001b[39m,\n\u001b[32m     66\u001b[39m     key: Any,\n\u001b[32m   (...)\u001b[39m\u001b[32m     70\u001b[39m     throw_on_missing_key: \u001b[38;5;28mbool\u001b[39m = \u001b[38;5;28;01mFalse\u001b[39;00m,\n\u001b[32m     71\u001b[39m ) -> Union[Optional[Node], List[Optional[Node]]]:\n\u001b[32m     72\u001b[39m \u001b[38;5;250m    \u001b[39m\u001b[33;03m\"\"\"Like _get_node, passing through to the nearest concrete Node.\"\"\"\u001b[39;00m\n\u001b[32m---> \u001b[39m\u001b[32m73\u001b[39m     child = \u001b[38;5;28;43mself\u001b[39;49m\u001b[43m.\u001b[49m\u001b[43m_get_node\u001b[49m\u001b[43m(\u001b[49m\n\u001b[32m     74\u001b[39m \u001b[43m        \u001b[49m\u001b[43mkey\u001b[49m\u001b[43m=\u001b[49m\u001b[43mkey\u001b[49m\u001b[43m,\u001b[49m\n\u001b[32m     75\u001b[39m \u001b[43m        \u001b[49m\u001b[43mvalidate_access\u001b[49m\u001b[43m=\u001b[49m\u001b[43mvalidate_access\u001b[49m\u001b[43m,\u001b[49m\n\u001b[32m     76\u001b[39m \u001b[43m        \u001b[49m\u001b[43mvalidate_key\u001b[49m\u001b[43m=\u001b[49m\u001b[43mvalidate_key\u001b[49m\u001b[43m,\u001b[49m\n\u001b[32m     77\u001b[39m \u001b[43m        \u001b[49m\u001b[43mthrow_on_missing_value\u001b[49m\u001b[43m=\u001b[49m\u001b[43mthrow_on_missing_value\u001b[49m\u001b[43m,\u001b[49m\n\u001b[32m     78\u001b[39m \u001b[43m        \u001b[49m\u001b[43mthrow_on_missing_key\u001b[49m\u001b[43m=\u001b[49m\u001b[43mthrow_on_missing_key\u001b[49m\u001b[43m,\u001b[49m\n\u001b[32m     79\u001b[39m \u001b[43m    \u001b[49m\u001b[43m)\u001b[49m\n\u001b[32m     80\u001b[39m     \u001b[38;5;28;01mif\u001b[39;00m \u001b[38;5;28misinstance\u001b[39m(child, UnionNode) \u001b[38;5;129;01mand\u001b[39;00m \u001b[38;5;129;01mnot\u001b[39;00m _is_special(child):\n\u001b[32m     81\u001b[39m         value = child._value()\n",
      "\u001b[36mFile \u001b[39m\u001b[32m~/FLP2P/p2p/lib/python3.12/site-packages/omegaconf/dictconfig.py:480\u001b[39m, in \u001b[36mDictConfig._get_node\u001b[39m\u001b[34m(self, key, validate_access, validate_key, throw_on_missing_value, throw_on_missing_key)\u001b[39m\n\u001b[32m    478\u001b[39m \u001b[38;5;28;01mif\u001b[39;00m value \u001b[38;5;129;01mis\u001b[39;00m \u001b[38;5;28;01mNone\u001b[39;00m:\n\u001b[32m    479\u001b[39m     \u001b[38;5;28;01mif\u001b[39;00m throw_on_missing_key:\n\u001b[32m--> \u001b[39m\u001b[32m480\u001b[39m         \u001b[38;5;28;01mraise\u001b[39;00m ConfigKeyError(\u001b[33mf\u001b[39m\u001b[33m\"\u001b[39m\u001b[33mMissing key \u001b[39m\u001b[38;5;132;01m{\u001b[39;00mkey\u001b[38;5;132;01m!s}\u001b[39;00m\u001b[33m\"\u001b[39m)\n\u001b[32m    481\u001b[39m \u001b[38;5;28;01melif\u001b[39;00m throw_on_missing_value \u001b[38;5;129;01mand\u001b[39;00m value._is_missing():\n\u001b[32m    482\u001b[39m     \u001b[38;5;28;01mraise\u001b[39;00m MissingMandatoryValue(\u001b[33m\"\u001b[39m\u001b[33mMissing mandatory value: $KEY\u001b[39m\u001b[33m\"\u001b[39m)\n",
      "\u001b[31mConfigAttributeError\u001b[39m: Missing key pretrained\n    full_key: pretrained\n    object_type=dict"
     ]
    }
   ],
   "source": [
    "device = cfg.device\n",
    "base_model = make_resnet18(cfg).to(device)\n",
    "init_state = base_model.state_dict()\n",
    "\n",
    "# Model + Clients\n",
    "clients: List[FLClient] = []\n",
    "for i in range(cfg.partition.num_clients):\n",
    "    if cfg.model.name == \"lenet5\":\n",
    "        model = LeNet5(cfg.model).to(device)\n",
    "        model.load_state_dict(init_state)\n",
    "    elif cfg.model.name == \"resnet18\":\n",
    "        model = make_resnet18(cfg.model).to(device)\n",
    "        model.load_state_dict(init_state)\n",
    "    else:\n",
    "        raise ValueError(f\"Unknown model: {cfg.model.name}\")\n",
    "    train_loader, test_loader = None, None\n",
    "    client = FLClient(\n",
    "        model=model,\n",
    "        device=cfg.device,\n",
    "        train_loader=train_loader,\n",
    "        test_loader=test_loader,\n",
    "        config=cfg.client\n",
    "    )\n",
    "    clients.append(client)"
   ]
  }
 ],
 "metadata": {
  "kernelspec": {
   "display_name": "p2p",
   "language": "python",
   "name": "python3"
  },
  "language_info": {
   "codemirror_mode": {
    "name": "ipython",
    "version": 3
   },
   "file_extension": ".py",
   "mimetype": "text/x-python",
   "name": "python",
   "nbconvert_exporter": "python",
   "pygments_lexer": "ipython3",
   "version": "3.12.3"
  }
 },
 "nbformat": 4,
 "nbformat_minor": 5
}
