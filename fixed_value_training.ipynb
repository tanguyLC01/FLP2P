{
 "cells": [
  {
   "cell_type": "code",
   "execution_count": 10,
   "id": "a86cf3be",
   "metadata": {},
   "outputs": [],
   "source": [
    "\n",
    "import os\n",
    "from typing import List, Dict\n",
    "\n",
    "\n",
    "from omegaconf import DictConfig, OmegaConf\n",
    "import torch\n",
    "from flp2p.client import FLClient\n",
    "from flp2p.data import build_client_loaders, get_dataset\n",
    "from flp2p.graph_runner import run_rounds\n",
    "from flp2p.networks.lenet5 import LeNet5\n",
    "from flp2p.networks.resnet18 import make_resnet18\n",
    "import logging\n",
    "import pickle\n",
    "import random\n",
    "import numpy as np\n",
    "import torch\n",
    "from flp2p.utils import plot_topology, build_topology, compute_weight_matrix"
   ]
  },
  {
   "cell_type": "code",
   "execution_count": 2,
   "id": "accd3f1d",
   "metadata": {},
   "outputs": [],
   "source": [
    "from hydra import compose, initialize\n",
    "\n",
    "with initialize(version_base=None, config_path=\"conf\", job_name=\"test_app\"):\n",
    "    cfg = compose(config_name=\"config\")"
   ]
  },
  {
   "cell_type": "code",
   "execution_count": 3,
   "id": "201bd21d",
   "metadata": {},
   "outputs": [
    {
     "name": "stderr",
     "output_type": "stream",
     "text": [
      "c:\\Users\\GXGG8822\\Documents\\FLP2P\\p2p\\Lib\\site-packages\\torchvision\\models\\_utils.py:208: UserWarning: The parameter 'pretrained' is deprecated since 0.13 and may be removed in the future, please use 'weights' instead.\n",
      "  warnings.warn(\n",
      "c:\\Users\\GXGG8822\\Documents\\FLP2P\\p2p\\Lib\\site-packages\\torchvision\\models\\_utils.py:223: UserWarning: Arguments other than a weight enum or `None` for 'weights' are deprecated since 0.13 and may be removed in the future. The current behavior is equivalent to passing `weights=None`.\n",
      "  warnings.warn(msg)\n"
     ]
    }
   ],
   "source": [
    "device = torch.device(\"cuda\" if torch.cuda.is_available() and cfg.use_cuda else \"cpu\")\n",
    "base_model = make_resnet18(cfg.model).to(device)\n",
    "init_state = base_model.state_dict()\n",
    "\n",
    "# Model + Clients\n",
    "clients: List[FLClient] = []\n",
    "for i in range(cfg.partition.num_clients):\n",
    "    if cfg.model.name == \"lenet5\":\n",
    "        model = LeNet5(cfg.model).to(device)\n",
    "        model.load_state_dict(init_state)\n",
    "    elif cfg.model.name == \"resnet18\":\n",
    "        model = make_resnet18(cfg.model).to(device)\n",
    "        model.load_state_dict(init_state)\n",
    "    else:\n",
    "        raise ValueError(f\"Unknown model: {cfg.model.name}\")\n",
    "    train_loader, test_loader = None, None\n",
    "    client = FLClient(\n",
    "        model=model,\n",
    "        device=device,\n",
    "        train_loader=train_loader,\n",
    "        test_loader=test_loader,\n",
    "        config=cfg.client\n",
    "    )\n",
    "    clients.append(client)\n",
    "    \n",
    "    \n",
    "graph = build_topology(cfg.partition.num_clients, cfg.graph, mixing_matrix=cfg.mixing_matrix, seed=cfg.seed, consensus_lr=cfg.consensus_lr)\n",
    "W = compute_weight_matrix(graph, cfg.mixing_matrix)"
   ]
  },
  {
   "cell_type": "code",
   "execution_count": 13,
   "id": "f9a62a45",
   "metadata": {},
   "outputs": [
    {
     "ename": "NameError",
     "evalue": "name 'torch' is not defined",
     "output_type": "error",
     "traceback": [
      "\u001b[31m---------------------------------------------------------------------------\u001b[39m",
      "\u001b[31mNameError\u001b[39m                                 Traceback (most recent call last)",
      "\u001b[36mCell\u001b[39m\u001b[36m \u001b[39m\u001b[32mIn[13]\u001b[39m\u001b[32m, line 30\u001b[39m\n\u001b[32m     27\u001b[39m         \u001b[38;5;28;01mfor\u001b[39;00m i \u001b[38;5;129;01min\u001b[39;00m \u001b[38;5;28mrange\u001b[39m(N):\n\u001b[32m     28\u001b[39m             set_flat_params(clients[i].model, new_params[i])\n\u001b[32m---> \u001b[39m\u001b[32m30\u001b[39m \u001b[43mcompute_consensus_distance\u001b[49m\u001b[43m(\u001b[49m\u001b[43m[\u001b[49m\u001b[43mget_flat_params\u001b[49m\u001b[43m(\u001b[49m\u001b[43mclient\u001b[49m\u001b[43m.\u001b[49m\u001b[43mmodel\u001b[49m\u001b[43m)\u001b[49m\u001b[43m \u001b[49m\u001b[38;5;28;43;01mfor\u001b[39;49;00m\u001b[43m \u001b[49m\u001b[43mclient\u001b[49m\u001b[43m \u001b[49m\u001b[38;5;129;43;01min\u001b[39;49;00m\u001b[43m \u001b[49m\u001b[43mclients\u001b[49m\u001b[43m]\u001b[49m\u001b[43m)\u001b[49m\n",
      "\u001b[36mFile \u001b[39m\u001b[32mc:\\Users\\GXGG8822\\Documents\\FLP2P\\flp2p\\utils.py:100\u001b[39m, in \u001b[36mcompute_consensus_distance\u001b[39m\u001b[34m(node_params)\u001b[39m\n\u001b[32m     97\u001b[39m \"\"\"Check how far apart node parameters are\"\"\"\n\u001b[32m     98\u001b[39m param_vectors = []\n\u001b[32m     99\u001b[39m for params in node_params:\n\u001b[32m--> \u001b[39m\u001b[32m100\u001b[39m     # Flatten all parameters into one vector\n\u001b[32m    101\u001b[39m     flat_params = torch.cat([p.flatten() for p in params.values()])\n\u001b[32m    102\u001b[39m     param_vectors.append(flat_params)\n",
      "\u001b[31mNameError\u001b[39m: name 'torch' is not defined"
     ]
    }
   ],
   "source": [
    "from flp2p.utils import compute_consensus_distance\n",
    "def get_flat_params(model):\n",
    "    \"\"\"Flatten model parameters into a single vector.\"\"\"\n",
    "    return torch.cat([p.data.view(-1) for p in model.parameters()])\n",
    "\n",
    "def set_flat_params(model, flat_params):\n",
    "    \"\"\"Load a flat parameter vector into a model.\"\"\"\n",
    "    idx = 0\n",
    "    for p in model.parameters():\n",
    "        num_params = p.numel()\n",
    "        p.data.copy_(flat_params[idx:idx + num_params].view_as(p))\n",
    "        idx += num_params\n",
    "\n",
    "N = len(clients)\n",
    "for round in range(1, 0 + 1):\n",
    "    with torch.no_grad():\n",
    "        flat_params  = [get_flat_params(client.model) for client in clients]\n",
    "        new_params = []\n",
    "        \n",
    "        for i in range(N):\n",
    "            mixed = torch.zeros_like(flat_params[0])\n",
    "            for j in range(N):\n",
    "                mixed += W[i, j] * flat_params[j]\n",
    "            new_params.append(mixed)\n",
    "        \n",
    "        # Update each client model\n",
    "        for i in range(N):\n",
    "            set_flat_params(clients[i].model, new_params[i])\n",
    "\n",
    "compute_consensus_distance([get_flat_params(client.model) for client in clients])"
   ]
  },
  {
   "cell_type": "code",
   "execution_count": null,
   "id": "afe6c866",
   "metadata": {},
   "outputs": [],
   "source": []
  }
 ],
 "metadata": {
  "kernelspec": {
   "display_name": "p2p",
   "language": "python",
   "name": "python3"
  },
  "language_info": {
   "codemirror_mode": {
    "name": "ipython",
    "version": 3
   },
   "file_extension": ".py",
   "mimetype": "text/x-python",
   "name": "python",
   "nbconvert_exporter": "python",
   "pygments_lexer": "ipython3",
   "version": "3.12.10"
  }
 },
 "nbformat": 4,
 "nbformat_minor": 5
}
