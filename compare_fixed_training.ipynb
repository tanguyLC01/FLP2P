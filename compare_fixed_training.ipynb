{
 "cells": [
  {
   "cell_type": "code",
   "execution_count": null,
   "id": "b5a683c7",
   "metadata": {},
   "outputs": [
    {
     "ename": "FileNotFoundError",
     "evalue": "[Errno 2] No such file or directory: 'fixed_value/2025-10-21/13-59-07/main.log'",
     "output_type": "error",
     "traceback": [
      "\u001b[31m---------------------------------------------------------------------------\u001b[39m",
      "\u001b[31mFileNotFoundError\u001b[39m                         Traceback (most recent call last)",
      "\u001b[36mCell\u001b[39m\u001b[36m \u001b[39m\u001b[32mIn[3]\u001b[39m\u001b[32m, line 33\u001b[39m\n\u001b[32m     31\u001b[39m \u001b[38;5;28;01mif\u001b[39;00m os.path.isfile(log_file):\n\u001b[32m     32\u001b[39m     \u001b[38;5;28;01mcontinue\u001b[39;00m\n\u001b[32m---> \u001b[39m\u001b[32m33\u001b[39m \u001b[38;5;28;01mwith\u001b[39;00m \u001b[38;5;28;43mopen\u001b[39;49m\u001b[43m(\u001b[49m\u001b[33;43mf\u001b[39;49m\u001b[33;43m'\u001b[39;49m\u001b[38;5;132;43;01m{\u001b[39;49;00m\u001b[43mlog_file\u001b[49m\u001b[38;5;132;43;01m}\u001b[39;49;00m\u001b[33;43m/main.log\u001b[39;49m\u001b[33;43m'\u001b[39;49m\u001b[43m,\u001b[49m\u001b[43m \u001b[49m\u001b[33;43m'\u001b[39;49m\u001b[33;43mr\u001b[39;49m\u001b[33;43m'\u001b[39;49m\u001b[43m)\u001b[49m \u001b[38;5;28;01mas\u001b[39;00m f:\n\u001b[32m     34\u001b[39m     data = f.read()\n\u001b[32m     35\u001b[39m config_file = OmegaConf.load(\u001b[33mf\u001b[39m\u001b[33m'\u001b[39m\u001b[38;5;132;01m{\u001b[39;00mlog_file\u001b[38;5;132;01m}\u001b[39;00m\u001b[33m/.hydra/config.yaml\u001b[39m\u001b[33m'\u001b[39m) \n",
      "\u001b[36mFile \u001b[39m\u001b[32m~/FLP2P/p2p/lib/python3.12/site-packages/IPython/core/interactiveshell.py:343\u001b[39m, in \u001b[36m_modified_open\u001b[39m\u001b[34m(file, *args, **kwargs)\u001b[39m\n\u001b[32m    336\u001b[39m \u001b[38;5;28;01mif\u001b[39;00m file \u001b[38;5;129;01min\u001b[39;00m {\u001b[32m0\u001b[39m, \u001b[32m1\u001b[39m, \u001b[32m2\u001b[39m}:\n\u001b[32m    337\u001b[39m     \u001b[38;5;28;01mraise\u001b[39;00m \u001b[38;5;167;01mValueError\u001b[39;00m(\n\u001b[32m    338\u001b[39m         \u001b[33mf\u001b[39m\u001b[33m\"\u001b[39m\u001b[33mIPython won\u001b[39m\u001b[33m'\u001b[39m\u001b[33mt let you open fd=\u001b[39m\u001b[38;5;132;01m{\u001b[39;00mfile\u001b[38;5;132;01m}\u001b[39;00m\u001b[33m by default \u001b[39m\u001b[33m\"\u001b[39m\n\u001b[32m    339\u001b[39m         \u001b[33m\"\u001b[39m\u001b[33mas it is likely to crash IPython. If you know what you are doing, \u001b[39m\u001b[33m\"\u001b[39m\n\u001b[32m    340\u001b[39m         \u001b[33m\"\u001b[39m\u001b[33myou can use builtins\u001b[39m\u001b[33m'\u001b[39m\u001b[33m open.\u001b[39m\u001b[33m\"\u001b[39m\n\u001b[32m    341\u001b[39m     )\n\u001b[32m--> \u001b[39m\u001b[32m343\u001b[39m \u001b[38;5;28;01mreturn\u001b[39;00m \u001b[43mio_open\u001b[49m\u001b[43m(\u001b[49m\u001b[43mfile\u001b[49m\u001b[43m,\u001b[49m\u001b[43m \u001b[49m\u001b[43m*\u001b[49m\u001b[43margs\u001b[49m\u001b[43m,\u001b[49m\u001b[43m \u001b[49m\u001b[43m*\u001b[49m\u001b[43m*\u001b[49m\u001b[43mkwargs\u001b[49m\u001b[43m)\u001b[49m\n",
      "\u001b[31mFileNotFoundError\u001b[39m: [Errno 2] No such file or directory: 'fixed_value/2025-10-21/13-59-07/main.log'"
     ]
    }
   ],
   "source": [
    "log_path = 'fixed_value/2025-10-21'\n",
    "import numpy as np\n",
    "import re\n",
    "import os\n",
    "from omegaconf import OmegaConf\n",
    "\n",
    "def get_metrics(data):\n",
    "    overall_distance_p = re.compile(r'Overall consensus distance : ([\\d\\.]+)')\n",
    "    inter_cluster_distance_p = re.compile(r'Inter-cluster distance : ([\\d\\.]+)')\n",
    "    cluster_1_distance_p =  re.compile(r'Inter-cluster distance : ([\\d\\.]+)')\n",
    "    cluster_2_distance_p =  re.compile(r'Cluster 2 consensus distance : ([\\d\\.]+)')\n",
    "    \n",
    "    overall_distance, inter_cluster_distance, cluster_1_distance, cluster_2_distance = [], [], [], []\n",
    "    for match in overall_distance_p.finditer(data):\n",
    "        overall_distance.append(float(match.group(1)))\n",
    "        \n",
    "    for match in inter_cluster_distance_p.finditer(data):\n",
    "        inter_cluster_distance.append(float(match.group(1)))\n",
    "    \n",
    "    for match in cluster_1_distance_p.finditer(data):\n",
    "        cluster_1_distance.append(float(match.group(1)))\n",
    "           \n",
    "    for match in cluster_2_distance_p.finditer(data):\n",
    "        cluster_2_distance.append(float(match.group(1)))\n",
    "        \n",
    "    return overall_distance, inter_cluster_distance, cluster_1_distance, cluster_2_distance\n",
    "\n",
    "res = {}\n",
    "for log_dir in os.listdir(log_path):\n",
    "    log_file  = f'{log_path}/{log_dir}'\n",
    "    if os.path.isfile(log_file):\n",
    "        continue\n",
    "    with open(f'{log_file}/main.log', 'r') as f:\n",
    "        data = f.read()\n",
    "    config_file = OmegaConf.load(f'{log_file}/.hydra/config.yaml') \n",
    "    overall_distance, inter_cluster_distance, cluster_1_distance, cluster_2_distance = get_metrics(data)\n",
    "    res[log_dir.split('/')[-1]] = [overall_distance, inter_cluster_distance, cluster_1_distance, cluster_2_distance ]\n",
    "    \n"
   ]
  }
 ],
 "metadata": {
  "kernelspec": {
   "display_name": "p2p",
   "language": "python",
   "name": "python3"
  },
  "language_info": {
   "codemirror_mode": {
    "name": "ipython",
    "version": 3
   },
   "file_extension": ".py",
   "mimetype": "text/x-python",
   "name": "python",
   "nbconvert_exporter": "python",
   "pygments_lexer": "ipython3",
   "version": "3.12.3"
  }
 },
 "nbformat": 4,
 "nbformat_minor": 5
}
